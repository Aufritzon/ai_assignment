{
 "cells": [
  {
   "cell_type": "code",
   "execution_count": 87,
   "id": "c1e0c471-ab93-48d7-901b-f212df5dda8b",
   "metadata": {},
   "outputs": [],
   "source": [
    "import pandas as pd\n",
    "import numpy as np\n",
    "import matplotlib.pyplot as plt\n",
    "import seaborn as sns\n",
    "from scipy import stats\n",
    "from sklearn.preprocessing import LabelEncoder\n",
    "from sklearn.model_selection import train_test_split\n",
    "from sklearn.linear_model import LinearRegression\n",
    "from sklearn.metrics import mean_squared_error"
   ]
  },
  {
   "cell_type": "code",
   "execution_count": 88,
   "id": "e6a55e19-4e50-45ef-9491-e948faec92c0",
   "metadata": {},
   "outputs": [],
   "source": [
    "df_original = pd.read_csv('supermarket_sales.csv')\n",
    "\n",
    "df = df_original.copy()"
   ]
  },
  {
   "cell_type": "markdown",
   "id": "ad25dada-8871-44c5-8fcc-02d4aec964ab",
   "metadata": {},
   "source": [
    "Brief overview:"
   ]
  },
  {
   "cell_type": "code",
   "execution_count": 89,
   "id": "7b477c47-a2bf-4497-848c-fbe476425dbe",
   "metadata": {},
   "outputs": [
    {
     "name": "stdout",
     "output_type": "stream",
     "text": [
      "<class 'pandas.core.frame.DataFrame'>\n",
      "RangeIndex: 1000 entries, 0 to 999\n",
      "Data columns (total 17 columns):\n",
      " #   Column                   Non-Null Count  Dtype  \n",
      "---  ------                   --------------  -----  \n",
      " 0   Invoice ID               1000 non-null   object \n",
      " 1   Branch                   1000 non-null   object \n",
      " 2   City                     1000 non-null   object \n",
      " 3   Customer type            1000 non-null   object \n",
      " 4   Gender                   1000 non-null   object \n",
      " 5   Product line             1000 non-null   object \n",
      " 6   Unit price               1000 non-null   float64\n",
      " 7   Quantity                 1000 non-null   int64  \n",
      " 8   Tax 5%                   1000 non-null   float64\n",
      " 9   Total                    1000 non-null   float64\n",
      " 10  Date                     1000 non-null   object \n",
      " 11  Time                     1000 non-null   object \n",
      " 12  Payment                  1000 non-null   object \n",
      " 13  cogs                     1000 non-null   float64\n",
      " 14  gross margin percentage  1000 non-null   float64\n",
      " 15  gross income             1000 non-null   float64\n",
      " 16  Rating                   1000 non-null   float64\n",
      "dtypes: float64(7), int64(1), object(9)\n",
      "memory usage: 132.9+ KB\n"
     ]
    }
   ],
   "source": [
    "df_original.info()"
   ]
  },
  {
   "cell_type": "markdown",
   "id": "b1a356ea-b7ed-4193-828f-ca23192c715c",
   "metadata": {},
   "source": [
    "Renaming cols for easier access:"
   ]
  },
  {
   "cell_type": "code",
   "execution_count": 90,
   "id": "02b95788-2c0d-4753-878f-da93b6975201",
   "metadata": {},
   "outputs": [],
   "source": [
    "df_original.columns = df_original.columns.str.lower().str.replace(' ', '_')"
   ]
  },
  {
   "cell_type": "markdown",
   "id": "b2af7606-0282-421e-913a-8216f078eb04",
   "metadata": {},
   "source": [
    "Creating a copy of the original data to use throughout the assignment:"
   ]
  },
  {
   "cell_type": "code",
   "execution_count": 91,
   "id": "0b1e0966-0160-42ea-9ae5-6c3033f137a2",
   "metadata": {},
   "outputs": [],
   "source": [
    "df = df_original.copy()"
   ]
  },
  {
   "cell_type": "markdown",
   "id": "5fda54cf-e87f-4923-892f-36fd5a9270d7",
   "metadata": {},
   "source": [
    "Step 1: Understanding the domain matter:\n",
    "\n",
    "From the data provided, we're looking to predict the quantity of products purchased, which could be useful in stock management, prediction of sales, etc."
   ]
  },
  {
   "cell_type": "markdown",
   "id": "0949bf2a-0f59-4189-98ff-dd8eacccc389",
   "metadata": {},
   "source": [
    "Step 2: Verifying the data is in the correct format:\n",
    "\n",
    "Let's check the data types of each column:"
   ]
  },
  {
   "cell_type": "code",
   "execution_count": 92,
   "id": "d3e2a3e2-7f20-4b54-90d1-26601ae94bc0",
   "metadata": {},
   "outputs": [
    {
     "data": {
      "text/plain": [
       "invoice_id                  object\n",
       "branch                      object\n",
       "city                        object\n",
       "customer_type               object\n",
       "gender                      object\n",
       "product_line                object\n",
       "unit_price                 float64\n",
       "quantity                     int64\n",
       "tax_5%                     float64\n",
       "total                      float64\n",
       "date                        object\n",
       "time                        object\n",
       "payment                     object\n",
       "cogs                       float64\n",
       "gross_margin_percentage    float64\n",
       "gross_income               float64\n",
       "rating                     float64\n",
       "dtype: object"
      ]
     },
     "execution_count": 92,
     "metadata": {},
     "output_type": "execute_result"
    }
   ],
   "source": [
    "df.dtypes"
   ]
  },
  {
   "cell_type": "markdown",
   "id": "3400cfa9-c99a-48a9-aeaa-94d581389b31",
   "metadata": {},
   "source": [
    "Ensure date and time column is in datetime format:"
   ]
  },
  {
   "cell_type": "code",
   "execution_count": 93,
   "id": "5b71f805-ed5e-48be-9b22-6eb295baa6c8",
   "metadata": {},
   "outputs": [],
   "source": [
    "df['date'] = pd.to_datetime(df['date'])\n",
    "df['time'] = pd.to_datetime(df['time'], format=\"%H:%M\")\n"
   ]
  },
  {
   "cell_type": "markdown",
   "id": "99fcd490-37e3-417e-aecc-2a2224c45f50",
   "metadata": {},
   "source": [
    "In order to "
   ]
  },
  {
   "cell_type": "markdown",
   "id": "3d743416-c494-4d27-ae6f-27a0b3a19061",
   "metadata": {},
   "source": [
    "Check for missing values:"
   ]
  },
  {
   "cell_type": "code",
   "execution_count": 94,
   "id": "564c49a4-f4b8-47ce-a251-1fa6893d17da",
   "metadata": {},
   "outputs": [
    {
     "data": {
      "text/plain": [
       "invoice_id                 0\n",
       "branch                     0\n",
       "city                       0\n",
       "customer_type              0\n",
       "gender                     0\n",
       "product_line               0\n",
       "unit_price                 0\n",
       "quantity                   0\n",
       "tax_5%                     0\n",
       "total                      0\n",
       "date                       0\n",
       "time                       0\n",
       "payment                    0\n",
       "cogs                       0\n",
       "gross_margin_percentage    0\n",
       "gross_income               0\n",
       "rating                     0\n",
       "dtype: int64"
      ]
     },
     "execution_count": 94,
     "metadata": {},
     "output_type": "execute_result"
    }
   ],
   "source": [
    "df.isnull().sum()"
   ]
  },
  {
   "cell_type": "markdown",
   "id": "8789c017-45e7-4e71-a886-cf94767a31d9",
   "metadata": {},
   "source": [
    "Check for duplicates:"
   ]
  },
  {
   "cell_type": "code",
   "execution_count": 95,
   "id": "0e0c16ff-66ac-447b-a52a-5a0352b7633b",
   "metadata": {},
   "outputs": [
    {
     "data": {
      "text/plain": [
       "0"
      ]
     },
     "execution_count": 95,
     "metadata": {},
     "output_type": "execute_result"
    }
   ],
   "source": [
    "df.duplicated().sum()"
   ]
  },
  {
   "cell_type": "markdown",
   "id": "e93cd6b0-7d33-41dc-8d9b-2c68371b36ac",
   "metadata": {},
   "source": [
    "Step 3: Univariate data analysis:\n",
    "\n",
    "Let us describe the numerical vars:"
   ]
  },
  {
   "cell_type": "code",
   "execution_count": 96,
   "id": "f8cf7048-0c8b-4894-8f43-634a1246d5eb",
   "metadata": {},
   "outputs": [
    {
     "data": {
      "text/html": [
       "<div>\n",
       "<style scoped>\n",
       "    .dataframe tbody tr th:only-of-type {\n",
       "        vertical-align: middle;\n",
       "    }\n",
       "\n",
       "    .dataframe tbody tr th {\n",
       "        vertical-align: top;\n",
       "    }\n",
       "\n",
       "    .dataframe thead th {\n",
       "        text-align: right;\n",
       "    }\n",
       "</style>\n",
       "<table border=\"1\" class=\"dataframe\">\n",
       "  <thead>\n",
       "    <tr style=\"text-align: right;\">\n",
       "      <th></th>\n",
       "      <th>unit_price</th>\n",
       "      <th>quantity</th>\n",
       "      <th>tax_5%</th>\n",
       "      <th>total</th>\n",
       "      <th>cogs</th>\n",
       "      <th>gross_margin_percentage</th>\n",
       "      <th>gross_income</th>\n",
       "      <th>rating</th>\n",
       "    </tr>\n",
       "  </thead>\n",
       "  <tbody>\n",
       "    <tr>\n",
       "      <th>count</th>\n",
       "      <td>1000.000000</td>\n",
       "      <td>1000.000000</td>\n",
       "      <td>1000.000000</td>\n",
       "      <td>1000.000000</td>\n",
       "      <td>1000.00000</td>\n",
       "      <td>1.000000e+03</td>\n",
       "      <td>1000.000000</td>\n",
       "      <td>1000.00000</td>\n",
       "    </tr>\n",
       "    <tr>\n",
       "      <th>mean</th>\n",
       "      <td>55.672130</td>\n",
       "      <td>5.510000</td>\n",
       "      <td>15.379369</td>\n",
       "      <td>322.966749</td>\n",
       "      <td>307.58738</td>\n",
       "      <td>4.761905e+00</td>\n",
       "      <td>15.379369</td>\n",
       "      <td>6.97270</td>\n",
       "    </tr>\n",
       "    <tr>\n",
       "      <th>std</th>\n",
       "      <td>26.494628</td>\n",
       "      <td>2.923431</td>\n",
       "      <td>11.708825</td>\n",
       "      <td>245.885335</td>\n",
       "      <td>234.17651</td>\n",
       "      <td>6.131498e-14</td>\n",
       "      <td>11.708825</td>\n",
       "      <td>1.71858</td>\n",
       "    </tr>\n",
       "    <tr>\n",
       "      <th>min</th>\n",
       "      <td>10.080000</td>\n",
       "      <td>1.000000</td>\n",
       "      <td>0.508500</td>\n",
       "      <td>10.678500</td>\n",
       "      <td>10.17000</td>\n",
       "      <td>4.761905e+00</td>\n",
       "      <td>0.508500</td>\n",
       "      <td>4.00000</td>\n",
       "    </tr>\n",
       "    <tr>\n",
       "      <th>25%</th>\n",
       "      <td>32.875000</td>\n",
       "      <td>3.000000</td>\n",
       "      <td>5.924875</td>\n",
       "      <td>124.422375</td>\n",
       "      <td>118.49750</td>\n",
       "      <td>4.761905e+00</td>\n",
       "      <td>5.924875</td>\n",
       "      <td>5.50000</td>\n",
       "    </tr>\n",
       "    <tr>\n",
       "      <th>50%</th>\n",
       "      <td>55.230000</td>\n",
       "      <td>5.000000</td>\n",
       "      <td>12.088000</td>\n",
       "      <td>253.848000</td>\n",
       "      <td>241.76000</td>\n",
       "      <td>4.761905e+00</td>\n",
       "      <td>12.088000</td>\n",
       "      <td>7.00000</td>\n",
       "    </tr>\n",
       "    <tr>\n",
       "      <th>75%</th>\n",
       "      <td>77.935000</td>\n",
       "      <td>8.000000</td>\n",
       "      <td>22.445250</td>\n",
       "      <td>471.350250</td>\n",
       "      <td>448.90500</td>\n",
       "      <td>4.761905e+00</td>\n",
       "      <td>22.445250</td>\n",
       "      <td>8.50000</td>\n",
       "    </tr>\n",
       "    <tr>\n",
       "      <th>max</th>\n",
       "      <td>99.960000</td>\n",
       "      <td>10.000000</td>\n",
       "      <td>49.650000</td>\n",
       "      <td>1042.650000</td>\n",
       "      <td>993.00000</td>\n",
       "      <td>4.761905e+00</td>\n",
       "      <td>49.650000</td>\n",
       "      <td>10.00000</td>\n",
       "    </tr>\n",
       "  </tbody>\n",
       "</table>\n",
       "</div>"
      ],
      "text/plain": [
       "        unit_price     quantity       tax_5%        total        cogs  \\\n",
       "count  1000.000000  1000.000000  1000.000000  1000.000000  1000.00000   \n",
       "mean     55.672130     5.510000    15.379369   322.966749   307.58738   \n",
       "std      26.494628     2.923431    11.708825   245.885335   234.17651   \n",
       "min      10.080000     1.000000     0.508500    10.678500    10.17000   \n",
       "25%      32.875000     3.000000     5.924875   124.422375   118.49750   \n",
       "50%      55.230000     5.000000    12.088000   253.848000   241.76000   \n",
       "75%      77.935000     8.000000    22.445250   471.350250   448.90500   \n",
       "max      99.960000    10.000000    49.650000  1042.650000   993.00000   \n",
       "\n",
       "       gross_margin_percentage  gross_income      rating  \n",
       "count             1.000000e+03   1000.000000  1000.00000  \n",
       "mean              4.761905e+00     15.379369     6.97270  \n",
       "std               6.131498e-14     11.708825     1.71858  \n",
       "min               4.761905e+00      0.508500     4.00000  \n",
       "25%               4.761905e+00      5.924875     5.50000  \n",
       "50%               4.761905e+00     12.088000     7.00000  \n",
       "75%               4.761905e+00     22.445250     8.50000  \n",
       "max               4.761905e+00     49.650000    10.00000  "
      ]
     },
     "execution_count": 96,
     "metadata": {},
     "output_type": "execute_result"
    }
   ],
   "source": [
    "df.describe()"
   ]
  },
  {
   "cell_type": "markdown",
   "id": "b8b444a8-bb17-4416-af34-9235c0ee9dbf",
   "metadata": {},
   "source": [
    "And for categorical variables:\n",
    "\n"
   ]
  },
  {
   "cell_type": "code",
   "execution_count": 97,
   "id": "3acbb123-44f7-46b8-9e9a-64184ea426b8",
   "metadata": {},
   "outputs": [
    {
     "name": "stdout",
     "output_type": "stream",
     "text": [
      "\n",
      "Column Name: invoice_id\n",
      "750-67-8428    1\n",
      "642-61-4706    1\n",
      "816-72-8853    1\n",
      "491-38-3499    1\n",
      "322-02-2271    1\n",
      "              ..\n",
      "633-09-3463    1\n",
      "374-17-3652    1\n",
      "378-07-7001    1\n",
      "433-75-6987    1\n",
      "849-09-3807    1\n",
      "Name: invoice_id, Length: 1000, dtype: int64\n",
      "\n",
      "Column Name: branch\n",
      "A    340\n",
      "B    332\n",
      "C    328\n",
      "Name: branch, dtype: int64\n",
      "\n",
      "Column Name: city\n",
      "Yangon       340\n",
      "Mandalay     332\n",
      "Naypyitaw    328\n",
      "Name: city, dtype: int64\n",
      "\n",
      "Column Name: customer_type\n",
      "Member    501\n",
      "Normal    499\n",
      "Name: customer_type, dtype: int64\n",
      "\n",
      "Column Name: gender\n",
      "Female    501\n",
      "Male      499\n",
      "Name: gender, dtype: int64\n",
      "\n",
      "Column Name: product_line\n",
      "Fashion accessories       178\n",
      "Food and beverages        174\n",
      "Electronic accessories    170\n",
      "Sports and travel         166\n",
      "Home and lifestyle        160\n",
      "Health and beauty         152\n",
      "Name: product_line, dtype: int64\n",
      "\n",
      "Column Name: payment\n",
      "Ewallet        345\n",
      "Cash           344\n",
      "Credit card    311\n",
      "Name: payment, dtype: int64\n"
     ]
    }
   ],
   "source": [
    "for col in df.select_dtypes(include='object').columns:\n",
    "    print(f\"\\nColumn Name: {col}\")\n",
    "    print(df[col].value_counts())\n"
   ]
  },
  {
   "cell_type": "markdown",
   "id": "1d7222b3-e2ed-410c-8a72-68225f14e238",
   "metadata": {},
   "source": [
    "Finding multicollinearity:"
   ]
  },
  {
   "cell_type": "code",
   "execution_count": 98,
   "id": "42535578-e7b7-4cda-8d48-4150f33e3c47",
   "metadata": {},
   "outputs": [
    {
     "data": {
      "image/png": "[encoded data removed]",
      "text/plain": [
       "<Figure size 1000x800 with 2 Axes>"
      ]
     },
     "metadata": {},
     "output_type": "display_data"
    }
   ],
   "source": [
    "price_times_quantity = pd.Series(df['unit_price'] * df['quantity'], name=\"price_times_quantity\")\n",
    "\n",
    "# Correlation\n",
    "correlation = pd.concat([price_times_quantity, df['cogs'], df['gross_income'], df['total'], df['tax_5%']], axis=1).corr()\n",
    "\n",
    "# Heatmap\n",
    "plt.figure(figsize=(10, 8))\n",
    "sns.heatmap(correlation, annot=True, cmap='coolwarm', vmin=-1, vmax=1)\n",
    "plt.show()\n"
   ]
  },
  {
   "cell_type": "markdown",
   "id": "da9649af-9a36-4a50-b5e9-29ee5aa375d0",
   "metadata": {},
   "source": [
    "Cogs, gross income, tota, tax_5% are all captured by quantity and price, so we remove them:"
   ]
  },
  {
   "cell_type": "code",
   "execution_count": 99,
   "id": "4859cade-f6ad-4ff4-b0d6-daa856b02b73",
   "metadata": {},
   "outputs": [],
   "source": [
    "df.drop(columns=['cogs', 'gross_income', 'tax_5%','total'], inplace = True)"
   ]
  },
  {
   "cell_type": "markdown",
   "id": "347d44b1-56d5-4305-bd0c-0055912fb297",
   "metadata": {},
   "source": [
    "We also delete gross_margin_percentage because it is constant:"
   ]
  },
  {
   "cell_type": "code",
   "execution_count": 100,
   "id": "520dafbf-eb74-4208-bf90-18d6188d7d9b",
   "metadata": {},
   "outputs": [
    {
     "data": {
      "text/plain": [
       "4.761905    1000\n",
       "Name: gross_margin_percentage, dtype: int64"
      ]
     },
     "execution_count": 100,
     "metadata": {},
     "output_type": "execute_result"
    }
   ],
   "source": [
    "df.gross_margin_percentage.value_counts()"
   ]
  },
  {
   "cell_type": "code",
   "execution_count": 101,
   "id": "fb5ec24a-d000-475d-805e-f9d9673b2a86",
   "metadata": {},
   "outputs": [],
   "source": [
    "df.drop(columns=['gross_margin_percentage'], inplace=True)"
   ]
  },
  {
   "cell_type": "markdown",
   "id": "a1524af9-d444-4795-a8fe-ed5a75987dcc",
   "metadata": {},
   "source": [
    "Let us convert dates and time so that it works with our models:"
   ]
  },
  {
   "cell_type": "code",
   "execution_count": 102,
   "id": "b8e94e65-2416-40c7-ac2b-c55055ac7f59",
   "metadata": {},
   "outputs": [],
   "source": [
    "df['day_of_week'] = df['date'].dt.dayofweek\n",
    "df['hour'] = df['time'].dt.hour\n",
    "\n",
    "df.drop(columns=['date', 'time'], inplace=True)"
   ]
  },
  {
   "cell_type": "markdown",
   "id": "fb65aa31-933a-4526-8df4-6c28a2391b15",
   "metadata": {},
   "source": [
    "We drop invoice_id because it appears secondary:"
   ]
  },
  {
   "cell_type": "code",
   "execution_count": 103,
   "id": "76e862a1-4061-410e-9696-3a93b58e8a8e",
   "metadata": {},
   "outputs": [],
   "source": [
    "df.drop(columns=['invoice_id'], inplace=True)"
   ]
  },
  {
   "cell_type": "code",
   "execution_count": null,
   "id": "363110e6-100c-45e6-8499-9a32e7fa4db9",
   "metadata": {},
   "outputs": [],
   "source": []
  },
  {
   "cell_type": "code",
   "execution_count": null,
   "id": "08923811-48aa-4e8b-b323-0a5fd535d3ad",
   "metadata": {},
   "outputs": [],
   "source": []
  },
  {
   "cell_type": "code",
   "execution_count": 106,
   "id": "0b684427-4dc7-40f5-abf5-912c7961629c",
   "metadata": {},
   "outputs": [
    {
     "name": "stdout",
     "output_type": "stream",
     "text": [
      "<class 'pandas.core.frame.DataFrame'>\n",
      "RangeIndex: 1000 entries, 0 to 999\n",
      "Data columns (total 11 columns):\n",
      " #   Column         Non-Null Count  Dtype  \n",
      "---  ------         --------------  -----  \n",
      " 0   branch         1000 non-null   object \n",
      " 1   city           1000 non-null   object \n",
      " 2   customer_type  1000 non-null   object \n",
      " 3   gender         1000 non-null   object \n",
      " 4   product_line   1000 non-null   object \n",
      " 5   unit_price     1000 non-null   float64\n",
      " 6   quantity       1000 non-null   int64  \n",
      " 7   payment        1000 non-null   object \n",
      " 8   rating         1000 non-null   float64\n",
      " 9   day_of_week    1000 non-null   int64  \n",
      " 10  hour           1000 non-null   int64  \n",
      "dtypes: float64(2), int64(3), object(6)\n",
      "memory usage: 86.1+ KB\n"
     ]
    }
   ],
   "source": [
    "df.info()"
   ]
  },
  {
   "cell_type": "code",
   "execution_count": null,
   "id": "9a2ee6fb-6938-459f-9891-3de64082ef48",
   "metadata": {},
   "outputs": [],
   "source": []
  },
  {
   "cell_type": "code",
   "execution_count": 107,
   "id": "91035a4d-eee4-46ae-98f8-6e8a1fa21626",
   "metadata": {},
   "outputs": [],
   "source": [
    "X = df.drop('quantity', axis=1)  # all columns except 'quantity'\n",
    "y = df['quantity']  # target column\n"
   ]
  },
  {
   "cell_type": "code",
   "execution_count": 127,
   "id": "3b4bebfb-6d52-4392-946f-37da65adadc8",
   "metadata": {},
   "outputs": [],
   "source": [
    "from sklearn.linear_model import Ridge\n",
    "from sklearn.metrics import mean_squared_error\n",
    "from tqdm import tqdm\n",
    "from sklearn.pipeline import Pipeline\n",
    "from sklearn.compose import ColumnTransformer\n",
    "from sklearn.preprocessing import StandardScaler, OneHotEncoder\n",
    "from sklearn.model_selection import train_test_split\n",
    "\n",
    "def train_ridge(data, target_variable, test_size=0.2):\n",
    "    # Preprocessing\n",
    "    preprocessor = ColumnTransformer(\n",
    "        transformers=[\n",
    "            ('num', StandardScaler(), ['unit_price', 'rating', 'day_of_week', 'hour']),\n",
    "            ('cat', OneHotEncoder(), ['branch', 'city', 'customer_type', 'gender', 'product_line', 'payment'])\n",
    "        ])\n",
    "\n",
    "    # Define pipeline\n",
    "    model = Pipeline(steps=[\n",
    "        ('preprocessor', preprocessor),\n",
    "        ('classifier', Ridge())\n",
    "    ])\n",
    "\n",
    "    # Split data\n",
    "    X = data.drop(target_variable, axis=1)  \n",
    "    y = data[target_variable]  \n",
    "    X_train, X_test, y_train, y_test = train_test_split(X, y, test_size=test_size, random_state=0)\n",
    "\n",
    "    # Hyperparameter tuning\n",
    "    alpha_values = [10**i for i in range(-10,2)]\n",
    "    training_scores = []\n",
    "    validation_scores = []\n",
    "    best_model = None\n",
    "    best_rmse_val = float('inf')\n",
    "\n",
    "    for alpha in tqdm(alpha_values):\n",
    "        model.set_params(classifier__alpha=alpha)  # setting the 'alpha' for Ridge inside the pipeline\n",
    "        model.fit(X_train, y_train)\n",
    "\n",
    "        train_prediction = model.predict(X_train).clip(0,20)\n",
    "        val_prediction = model.predict(X_test).clip(0,20)\n",
    "\n",
    "        rmse_train = mean_squared_error(train_prediction, y_train, squared=False)\n",
    "        rmse_val = mean_squared_error(val_prediction, y_test, squared=False)\n",
    "\n",
    "        if best_rmse_val > rmse_val:\n",
    "            best_model = model\n",
    "            best_rmse_val = rmse_val\n",
    "\n",
    "        training_scores.append(rmse_train)\n",
    "        validation_scores.append(rmse_val)\n",
    "\n",
    "    ridge_log = (training_scores, validation_scores, alpha_values)\n",
    "\n",
    "    return best_model, ridge_log\n"
   ]
  },
  {
   "cell_type": "code",
   "execution_count": 128,
   "id": "386dffb3-3b29-46d4-9373-0be7226763a4",
   "metadata": {},
   "outputs": [
    {
     "name": "stderr",
     "output_type": "stream",
     "text": [
      "100%|██████████| 12/12 [00:00<00:00, 74.42it/s]\n"
     ]
    }
   ],
   "source": [
    "best_model, ridge_log = train_ridge(df, 'quantity')\n"
   ]
  },
  {
   "cell_type": "code",
   "execution_count": 129,
   "id": "485a6ceb-97b6-479e-ba8f-2feb926bd349",
   "metadata": {},
   "outputs": [
    {
     "data": {
      "image/png": "[encoded data removed]",
      "text/plain": [
       "<Figure size 1000x600 with 1 Axes>"
      ]
     },
     "metadata": {},
     "output_type": "display_data"
    }
   ],
   "source": [
    "import matplotlib.pyplot as plt\n",
    "\n",
    "# Training and validation scores\n",
    "training_scores, validation_scores, alpha_values = ridge_log\n",
    "\n",
    "# Convert alpha_values to logarithmic scale for a better visualization\n",
    "log_alphas = [np.log10(alpha) for alpha in alpha_values]\n",
    "\n",
    "# Plotting\n",
    "plt.figure(figsize=(10, 6))\n",
    "plt.plot(log_alphas, training_scores, label='Training')\n",
    "\n",
    "plt.xlabel('log10(Alpha)')\n",
    "plt.ylabel('RMSE')\n",
    "plt.legend()\n",
    "plt.title('RMSE vs log10(Alpha)')\n",
    "plt.show()"
   ]
  },
  {
   "cell_type": "code",
   "execution_count": 130,
   "id": "bf51fd66-d398-43a3-9f2a-30d8e311d76a",
   "metadata": {},
   "outputs": [
    {
     "data": {
      "text/plain": [
       "Pipeline(steps=[('preprocessor',\n",
       "                 ColumnTransformer(transformers=[('num', StandardScaler(),\n",
       "                                                  ['unit_price', 'rating',\n",
       "                                                   'day_of_week', 'hour']),\n",
       "                                                 ('cat', OneHotEncoder(),\n",
       "                                                  ['branch', 'city',\n",
       "                                                   'customer_type', 'gender',\n",
       "                                                   'product_line',\n",
       "                                                   'payment'])])),\n",
       "                ('classifier', Ridge(alpha=10))])"
      ]
     },
     "execution_count": 130,
     "metadata": {},
     "output_type": "execute_result"
    }
   ],
   "source": [
    "best_model"
   ]
  }
 ],
 "metadata": {
  "kernelspec": {
   "display_name": "Python 3 (ipykernel)",
   "language": "python",
   "name": "python3"
  },
  "language_info": {
   "codemirror_mode": {
    "name": "ipython",
    "version": 3
   },
   "file_extension": ".py",
   "mimetype": "text/x-python",
   "name": "python",
   "nbconvert_exporter": "python",
   "pygments_lexer": "ipython3",
   "version": "3.9.13"
  }
 },
 "nbformat": 4,
 "nbformat_minor": 5
}
